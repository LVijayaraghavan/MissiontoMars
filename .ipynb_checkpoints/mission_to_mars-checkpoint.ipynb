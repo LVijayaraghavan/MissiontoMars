{
 "cells": [
  {
   "cell_type": "code",
   "execution_count": 1,
   "metadata": {},
   "outputs": [],
   "source": [
    "import requests\n",
    "from bs4 import BeautifulSoup as soup\n",
    "import lxml\n",
    "\n",
    "from splinter import Browser\n",
    "import pandas as pd\n",
    "\n",
    "\n",
    "import html5lib\n",
    "import splinter\n",
    "import time"
   ]
  },
  {
   "cell_type": "code",
   "execution_count": 2,
   "metadata": {},
   "outputs": [],
   "source": [
    "# read the html and get the content and the main title and the paragraph\n",
    "def get_headline_news():\n",
    "    \n",
    "    page1=requests.get(\"https://mars.nasa.gov/news/\")\n",
    "    page1_data=soup(page1.content,'lxml')\n",
    "    headlines_list=page1_data.find('div',class_='content_title')\n",
    "    headlines_title=headlines_list.a.text.strip()\n",
    "    headlines_paragraph=page1_data.find('div','rollover_description_inner')\n",
    "    headlines_para=headlines_paragraph.text.strip()\n",
    "    return(headlines_title,headlines_para)\n",
    "\n"
   ]
  },
  {
   "cell_type": "code",
   "execution_count": 3,
   "metadata": {},
   "outputs": [],
   "source": [
    "def get_featured_image():\n",
    "    url = 'https://www.jpl.nasa.gov/spaceimages/?search=&category=Mars'\n",
    "    # Retrieve page with the requests module\n",
    "    response = requests.get(url)\n",
    "    # Create BeautifulSoup object; parse with 'lxml'\n",
    "    image_data = soup(response.text, 'lxml')\n",
    "    featured_image=image_data.find('ul',class_='articles')\n",
    "    featured_image =featured_image.find_all('a',class_=\"fancybox\")\n",
    "    featured_image_url= 'https://www.jpl.nasa.gov' + featured_image[0].get('data-fancybox-href')\n",
    "    return featured_image_url"
   ]
  },
  {
   "cell_type": "code",
   "execution_count": 4,
   "metadata": {},
   "outputs": [],
   "source": [
    "def get_twitter_weather():\n",
    "    mars_twitter_url='https://twitter.com/marswxreport?lang=en'\n",
    "    twitter_response=requests.get(mars_twitter_url)\n",
    "    twitter_data=soup(twitter_response.text,'html.parser')\n",
    "    twitter_wthr_data = twitter_data.find(\"div\",{\"data-name\": \"Mars Weather\"},class_= \"tweet js-stream-tweet js-actionable-tweet js-profile-popup-actionable dismissible-content original-tweet js-original-tweet has-cards has-content\",)\n",
    "    mars_weather = twitter_wthr_data.p.text.strip()\n",
    "    mars_weather = mars_weather.rstrip(\"pic.twitter.com/anlHR95BMs\")\n",
    "    return mars_weather\n"
   ]
  },
  {
   "cell_type": "code",
   "execution_count": 6,
   "metadata": {},
   "outputs": [],
   "source": [
    "def get_mars_facts():\n",
    "    mars_facts_data=pd.read_html('https://space-facts.com/mars/')\n",
    "    df=mars_facts_data[0]\n",
    "    df.columns=['Profile Param','Value']\n",
    "    df.set_index('Profile Param',inplace=True)\n",
    "    html_table=df.to_html()\n",
    "    return html_table\n",
    "\n",
    "    "
   ]
  },
  {
   "cell_type": "code",
   "execution_count": 7,
   "metadata": {},
   "outputs": [],
   "source": [
    "def get_hemisphere_images():\n",
    "    executable_path = {'executable_path': 'C:/users/lalit/Beautifulsoup/chromedriver.exe'}\n",
    "    browser = Browser('chrome', **executable_path, headless=False)\n",
    "    url = 'https://astrogeology.usgs.gov/search/results?q=hemisphere+enhanced&k1=target&v1=Mars'\n",
    "    browser.visit(url)\n",
    "    html=browser.html\n",
    "    astro_data = soup(html, 'html.parser')\n",
    "    image_dict={}\n",
    "    Image_hemisphere_url=[]\n",
    "    result_hemis=astro_data.find_all('h3')\n",
    "    for result in result_hemis:\n",
    "        image_dict={}\n",
    "        browser.click_link_by_partial_text(result.text)\n",
    "        time.sleep(2)\n",
    "        html=browser.html\n",
    "        image_data=soup(html,'html.parser')\n",
    "        image_link=image_data.find_all('div',class_=\"downloads\")\n",
    "        link=image_link[0].find('a')\n",
    "        image_url=link.get('href')\n",
    "        print(image_url)\n",
    "        print(result.text)\n",
    "        image_dict[\"title\"]=result.text\n",
    "        image_dict[\"image_url\"]=image_url\n",
    "        Image_hemisphere_url.append(image_dict)\n",
    "        time.sleep(2)\n",
    "        browser.click_link_by_partial_text('Back')\n",
    "    browser.quit()\n",
    "    return Image_hemisphere_url\n",
    "\n",
    "   "
   ]
  },
  {
   "cell_type": "code",
   "execution_count": 8,
   "metadata": {},
   "outputs": [],
   "source": [
    "def scrape():\n",
    "    Mars_data ={}\n",
    "    Mars_data[\"Newsheadlines\"],Mars_data[\"Headline_para\"]=get_headline_news()\n",
    "    Mars_data[\"featured_image\"]=get_featured_image()\n",
    "    Mars_data[\"weather\"]=get_twitter_weather()\n",
    "    Mars_data[\"Mars_facts\"]=get_mars_facts()\n",
    "    Mars_data[\"Hemisphere_imgs\"]=get_hemisphere_images()\n",
    "    if(not Mars_data['Hemisphere_imgs']):\n",
    "        Mars_data['Hemisphere_imgs'] = [ { \"title\" : \"Cerberus Hemisphere Enhanced\", \"image_url\" : \"https://astrogeology.usgs.gov/cache/images/cfa62af2557222a02478f1fcd781d445_cerberus_enhanced.tif_full.jpg\" }, \\\n",
    "                                        { \"title\" : \"Schiaparelli Hemisphere Enhanced\", \"image_url\" : \"https://astrogeology.usgs.gov/cache/images/3cdd1cbf5e0813bba925c9030d13b62e_schiaparelli_enhanced.tif_full.jpg\" }, \\\n",
    "                                        { \"title\" : \"Syrtis Major Hemisphere Enhanced\", \"image_url\" : \"https://astrogeology.usgs.gov/cache/images/ae209b4e408bb6c3e67b6af38168cf28_syrtis_major_enhanced.tif_full.jpg\" }, \\\n",
    "                                        { \"title\" : \"Valles Marineris Hemisphere Enhanced\", \"image_url\" : \"https://astrogeology.usgs.gov/cache/images/7cf2da4bf549ed01c17f206327be4db7_valles_marineris_enhanced.tif_full.jpg\" } ]\n",
    "    return Mars_data\n",
    "    \n"
   ]
  },
  {
   "cell_type": "code",
   "execution_count": 30,
   "metadata": {},
   "outputs": [
    {
     "name": "stdout",
     "output_type": "stream",
     "text": [
      "NASA's Opportunity Rover Mission on Mars Comes to End NASA's Opportunity Mars rover mission is complete after 15 years on Mars. Opportunity's record-breaking exploration laid the groundwork for future missions to the Red Planet.\n",
      "http://astropedia.astrogeology.usgs.gov/download/Mars/Viking/cerberus_enhanced.tif/full.jpg\n",
      "Cerberus Hemisphere Enhanced\n",
      "http://astropedia.astrogeology.usgs.gov/download/Mars/Viking/schiaparelli_enhanced.tif/full.jpg\n",
      "Schiaparelli Hemisphere Enhanced\n",
      "http://astropedia.astrogeology.usgs.gov/download/Mars/Viking/syrtis_major_enhanced.tif/full.jpg\n",
      "Syrtis Major Hemisphere Enhanced\n",
      "http://astropedia.astrogeology.usgs.gov/download/Mars/Viking/valles_marineris_enhanced.tif/full.jpg\n",
      "Valles Marineris Hemisphere Enhanced\n"
     ]
    },
    {
     "data": {
      "text/plain": [
       "{'Newsheadlines': \"NASA's Opportunity Rover Mission on Mars Comes to End\",\n",
       " 'Headline_para': \"NASA's Opportunity Mars rover mission is complete after 15 years on Mars. Opportunity's record-breaking exploration laid the groundwork for future missions to the Red Planet.\",\n",
       " 'featured_image': 'https://www.jpl.nasa.gov/spaceimages/images/largesize/PIA22928_hires.jpg',\n",
       " 'weather': 'Sol 2319 (2019-02-13), high -17C/1F, low -72C/-97F, pressure at 8.12 hPa, daylight 06:46-18:52',\n",
       " 'Mars_facts': '<table border=\"1\" class=\"dataframe\">\\n  <thead>\\n    <tr style=\"text-align: right;\">\\n      <th></th>\\n      <th>Value</th>\\n    </tr>\\n    <tr>\\n      <th>Profile Param</th>\\n      <th></th>\\n    </tr>\\n  </thead>\\n  <tbody>\\n    <tr>\\n      <th>Equatorial Diameter:</th>\\n      <td>6,792 km</td>\\n    </tr>\\n    <tr>\\n      <th>Polar Diameter:</th>\\n      <td>6,752 km</td>\\n    </tr>\\n    <tr>\\n      <th>Mass:</th>\\n      <td>6.42 x 10^23 kg (10.7% Earth)</td>\\n    </tr>\\n    <tr>\\n      <th>Moons:</th>\\n      <td>2 (Phobos &amp; Deimos)</td>\\n    </tr>\\n    <tr>\\n      <th>Orbit Distance:</th>\\n      <td>227,943,824 km (1.52 AU)</td>\\n    </tr>\\n    <tr>\\n      <th>Orbit Period:</th>\\n      <td>687 days (1.9 years)</td>\\n    </tr>\\n    <tr>\\n      <th>Surface Temperature:</th>\\n      <td>-153 to 20 °C</td>\\n    </tr>\\n    <tr>\\n      <th>First Record:</th>\\n      <td>2nd millennium BC</td>\\n    </tr>\\n    <tr>\\n      <th>Recorded By:</th>\\n      <td>Egyptian astronomers</td>\\n    </tr>\\n  </tbody>\\n</table>',\n",
       " 'Hemisphere_imgs': [{'title': 'Cerberus Hemisphere Enhanced',\n",
       "   'image_url': 'http://astropedia.astrogeology.usgs.gov/download/Mars/Viking/cerberus_enhanced.tif/full.jpg'},\n",
       "  {'title': 'Schiaparelli Hemisphere Enhanced',\n",
       "   'image_url': 'http://astropedia.astrogeology.usgs.gov/download/Mars/Viking/schiaparelli_enhanced.tif/full.jpg'},\n",
       "  {'title': 'Syrtis Major Hemisphere Enhanced',\n",
       "   'image_url': 'http://astropedia.astrogeology.usgs.gov/download/Mars/Viking/syrtis_major_enhanced.tif/full.jpg'},\n",
       "  {'title': 'Valles Marineris Hemisphere Enhanced',\n",
       "   'image_url': 'http://astropedia.astrogeology.usgs.gov/download/Mars/Viking/valles_marineris_enhanced.tif/full.jpg'}]}"
      ]
     },
     "execution_count": 30,
     "metadata": {},
     "output_type": "execute_result"
    }
   ],
   "source": [
    "scrape()"
   ]
  },
  {
   "cell_type": "code",
   "execution_count": null,
   "metadata": {},
   "outputs": [],
   "source": []
  }
 ],
 "metadata": {
  "kernelspec": {
   "display_name": "Python 3",
   "language": "python",
   "name": "python3"
  },
  "language_info": {
   "codemirror_mode": {
    "name": "ipython",
    "version": 3
   },
   "file_extension": ".py",
   "mimetype": "text/x-python",
   "name": "python",
   "nbconvert_exporter": "python",
   "pygments_lexer": "ipython3",
   "version": "3.6.7"
  }
 },
 "nbformat": 4,
 "nbformat_minor": 2
}
